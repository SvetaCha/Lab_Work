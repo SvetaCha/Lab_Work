{
 "cells": [
  {
   "cell_type": "markdown",
   "metadata": {},
   "source": [
    "# Завдання 1:  \n",
    "\n",
    "* Підключитися до API Національного банку.  \n",
    "* Отримати курс доллара за останній рік.\n",
    "* Вивести середнє значення та відхилення курсу за кожен місяць.\n",
    "* Дану інформацію записати у файл за допомогою pickle"
   ]
  },
  {
   "cell_type": "code",
   "execution_count": 1,
   "metadata": {},
   "outputs": [
    {
     "name": "stdout",
     "output_type": "stream",
     "text": [
      "[{'r030': 840, 'txt': 'Долар США', 'rate': 24.59, 'cc': 'USD', 'exchangedate': '02.03.2020'}]\n"
     ]
    }
   ],
   "source": [
    "# Подключение к API Национального банка\n",
    "\n",
    "import requests\n",
    "\n",
    "#получение json з курсом доллара на сегодня\n",
    "r = requests.get('https://bank.gov.ua/NBUStatService/v1/statdirectory/exchange?valcode=USD&date=20200302&json').json()\n",
    "\n",
    "print(r)\n",
    "\n"
   ]
  },
  {
   "cell_type": "code",
   "execution_count": 6,
   "metadata": {},
   "outputs": [
    {
     "name": "stdout",
     "output_type": "stream",
     "text": [
      "[{'r030': 840, 'txt': 'Долар США', 'rate': 23.9677, 'cc': 'USD', 'exchangedate': '11.01.2020'}]\n",
      "{datetime.date(2021, 1, 10): 28.4028, datetime.date(2021, 1, 9): 28.4028, datetime.date(2021, 1, 8): 28.4028, datetime.date(2021, 1, 7): 28.4028, datetime.date(2021, 1, 6): 28.4028, datetime.date(2021, 1, 5): 28.431, datetime.date(2021, 1, 4): 28.2746, datetime.date(2021, 1, 3): 28.2746, datetime.date(2021, 1, 2): 28.2746, datetime.date(2021, 1, 1): 28.2746, datetime.date(2020, 12, 31): 28.2746, datetime.date(2020, 12, 30): 28.2605, datetime.date(2020, 12, 29): 28.3668, datetime.date(2020, 12, 28): 28.3547, datetime.date(2020, 12, 27): 28.4551, datetime.date(2020, 12, 26): 28.4551, datetime.date(2020, 12, 25): 28.4551, datetime.date(2020, 12, 24): 28.4551, datetime.date(2020, 12, 23): 28.2513, datetime.date(2020, 12, 22): 28.0391, datetime.date(2020, 12, 21): 27.828, datetime.date(2020, 12, 20): 27.8184, datetime.date(2020, 12, 19): 27.8184, datetime.date(2020, 12, 18): 27.8184, datetime.date(2020, 12, 17): 27.7373, datetime.date(2020, 12, 16): 27.759, datetime.date(2020, 12, 15): 27.8661, datetime.date(2020, 12, 14): 27.9666, datetime.date(2020, 12, 13): 28.075, datetime.date(2020, 12, 12): 28.075, datetime.date(2020, 12, 11): 28.075, datetime.date(2020, 12, 10): 28.0406, datetime.date(2020, 12, 9): 28.0828, datetime.date(2020, 12, 8): 28.2394, datetime.date(2020, 12, 7): 28.2913, datetime.date(2020, 12, 6): 28.3038, datetime.date(2020, 12, 5): 28.3038, datetime.date(2020, 12, 4): 28.3038, datetime.date(2020, 12, 3): 28.4367, datetime.date(2020, 12, 2): 28.5583, datetime.date(2020, 12, 1): 28.4962, datetime.date(2020, 11, 30): 28.4681, datetime.date(2020, 11, 29): 28.4428, datetime.date(2020, 11, 28): 28.4428, datetime.date(2020, 11, 27): 28.4428, datetime.date(2020, 11, 26): 28.3816, datetime.date(2020, 11, 25): 28.3741, datetime.date(2020, 11, 24): 28.3694, datetime.date(2020, 11, 23): 28.3553, datetime.date(2020, 11, 22): 28.2572, datetime.date(2020, 11, 21): 28.2572, datetime.date(2020, 11, 20): 28.2572, datetime.date(2020, 11, 19): 28.13, datetime.date(2020, 11, 18): 28.1067, datetime.date(2020, 11, 17): 28.112, datetime.date(2020, 11, 16): 28.1158, datetime.date(2020, 11, 15): 28.1963, datetime.date(2020, 11, 14): 28.1963, datetime.date(2020, 11, 13): 28.1963, datetime.date(2020, 11, 12): 28.161, datetime.date(2020, 11, 11): 28.1206, datetime.date(2020, 11, 10): 28.1116, datetime.date(2020, 11, 9): 28.1375, datetime.date(2020, 11, 8): 28.3643, datetime.date(2020, 11, 7): 28.3643, datetime.date(2020, 11, 6): 28.3643, datetime.date(2020, 11, 5): 28.5074, datetime.date(2020, 11, 4): 28.6, datetime.date(2020, 11, 3): 28.5827, datetime.date(2020, 11, 2): 28.4507, datetime.date(2020, 11, 1): 28.4383, datetime.date(2020, 10, 31): 28.4383, datetime.date(2020, 10, 30): 28.4383, datetime.date(2020, 10, 29): 28.3989, datetime.date(2020, 10, 28): 28.3655, datetime.date(2020, 10, 27): 28.3352, datetime.date(2020, 10, 26): 28.2911, datetime.date(2020, 10, 25): 28.265, datetime.date(2020, 10, 24): 28.265, datetime.date(2020, 10, 23): 28.265, datetime.date(2020, 10, 22): 28.2737, datetime.date(2020, 10, 21): 28.3707, datetime.date(2020, 10, 20): 28.3762, datetime.date(2020, 10, 19): 28.3649, datetime.date(2020, 10, 18): 28.3365, datetime.date(2020, 10, 17): 28.3365, datetime.date(2020, 10, 16): 28.3365, datetime.date(2020, 10, 15): 28.3164, datetime.date(2020, 10, 14): 28.2481, datetime.date(2020, 10, 13): 28.2481, datetime.date(2020, 10, 12): 28.2098, datetime.date(2020, 10, 11): 28.2836, datetime.date(2020, 10, 10): 28.2836, datetime.date(2020, 10, 9): 28.2836, datetime.date(2020, 10, 8): 28.324, datetime.date(2020, 10, 7): 28.3639, datetime.date(2020, 10, 6): 28.4009, datetime.date(2020, 10, 5): 28.3408, datetime.date(2020, 10, 4): 28.3343, datetime.date(2020, 10, 3): 28.3343, datetime.date(2020, 10, 2): 28.3343, datetime.date(2020, 10, 1): 28.3105, datetime.date(2020, 9, 30): 28.2989, datetime.date(2020, 9, 29): 28.3062, datetime.date(2020, 9, 28): 28.2673, datetime.date(2020, 9, 27): 28.2487, datetime.date(2020, 9, 26): 28.2487, datetime.date(2020, 9, 25): 28.2487, datetime.date(2020, 9, 24): 28.1874, datetime.date(2020, 9, 23): 28.2059, datetime.date(2020, 9, 22): 28.2022, datetime.date(2020, 9, 21): 28.1718, datetime.date(2020, 9, 20): 28.1127, datetime.date(2020, 9, 19): 28.1127, datetime.date(2020, 9, 18): 28.1127, datetime.date(2020, 9, 17): 28.1195, datetime.date(2020, 9, 16): 28.0556, datetime.date(2020, 9, 15): 28.0003, datetime.date(2020, 9, 14): 27.9003, datetime.date(2020, 9, 13): 27.8346, datetime.date(2020, 9, 12): 27.8346, datetime.date(2020, 9, 11): 27.8346, datetime.date(2020, 9, 10): 27.8296, datetime.date(2020, 9, 9): 27.8032, datetime.date(2020, 9, 8): 27.7509, datetime.date(2020, 9, 7): 27.7325, datetime.date(2020, 9, 6): 27.6908, datetime.date(2020, 9, 5): 27.6908, datetime.date(2020, 9, 4): 27.6908, datetime.date(2020, 9, 3): 27.6428, datetime.date(2020, 9, 2): 27.6049, datetime.date(2020, 9, 1): 27.5618, datetime.date(2020, 8, 31): 27.4759, datetime.date(2020, 8, 30): 27.4615, datetime.date(2020, 8, 29): 27.4615, datetime.date(2020, 8, 28): 27.4615, datetime.date(2020, 8, 27): 27.386, datetime.date(2020, 8, 26): 27.4383, datetime.date(2020, 8, 25): 27.3942, datetime.date(2020, 8, 24): 27.4812, datetime.date(2020, 8, 23): 27.4812, datetime.date(2020, 8, 22): 27.4812, datetime.date(2020, 8, 21): 27.4812, datetime.date(2020, 8, 20): 27.316, datetime.date(2020, 8, 19): 27.2297, datetime.date(2020, 8, 18): 27.3061, datetime.date(2020, 8, 17): 27.3474, datetime.date(2020, 8, 16): 27.4083, datetime.date(2020, 8, 15): 27.4083, datetime.date(2020, 8, 14): 27.4083, datetime.date(2020, 8, 13): 27.5266, datetime.date(2020, 8, 12): 27.5982, datetime.date(2020, 8, 11): 27.6007, datetime.date(2020, 8, 10): 27.6486, datetime.date(2020, 8, 9): 27.6793, datetime.date(2020, 8, 8): 27.6793, datetime.date(2020, 8, 7): 27.6793, datetime.date(2020, 8, 6): 27.7028, datetime.date(2020, 8, 5): 27.8225, datetime.date(2020, 8, 4): 27.7365, datetime.date(2020, 8, 3): 27.6798, datetime.date(2020, 8, 2): 27.6913, datetime.date(2020, 8, 1): 27.6913, datetime.date(2020, 7, 31): 27.6913, datetime.date(2020, 7, 30): 27.6867, datetime.date(2020, 7, 29): 27.6851, datetime.date(2020, 7, 28): 27.7571, datetime.date(2020, 7, 27): 27.7559, datetime.date(2020, 7, 26): 27.8779, datetime.date(2020, 7, 25): 27.8779, datetime.date(2020, 7, 24): 27.8779, datetime.date(2020, 7, 23): 27.7798, datetime.date(2020, 7, 22): 27.6647, datetime.date(2020, 7, 21): 27.6011, datetime.date(2020, 7, 20): 27.3606, datetime.date(2020, 7, 19): 27.2738, datetime.date(2020, 7, 18): 27.2738, datetime.date(2020, 7, 17): 27.2738, datetime.date(2020, 7, 16): 27.119, datetime.date(2020, 7, 15): 27.1436, datetime.date(2020, 7, 14): 27.0883, datetime.date(2020, 7, 13): 26.9505, datetime.date(2020, 7, 12): 26.9335, datetime.date(2020, 7, 11): 26.9335, datetime.date(2020, 7, 10): 26.9335, datetime.date(2020, 7, 9): 26.9514, datetime.date(2020, 7, 8): 26.9309, datetime.date(2020, 7, 7): 27.1269, datetime.date(2020, 7, 6): 27.1716, datetime.date(2020, 7, 5): 27.1801, datetime.date(2020, 7, 4): 27.1801, datetime.date(2020, 7, 3): 27.1801, datetime.date(2020, 7, 2): 26.77, datetime.date(2020, 7, 1): 26.6676, datetime.date(2020, 6, 30): 26.6922, datetime.date(2020, 6, 29): 26.7002, datetime.date(2020, 6, 28): 26.7002, datetime.date(2020, 6, 27): 26.7002, datetime.date(2020, 6, 26): 26.7002, datetime.date(2020, 6, 25): 26.6509, datetime.date(2020, 6, 24): 26.6078, datetime.date(2020, 6, 23): 26.6695, datetime.date(2020, 6, 22): 26.7207, datetime.date(2020, 6, 21): 26.7633, datetime.date(2020, 6, 20): 26.7633, datetime.date(2020, 6, 19): 26.7633, datetime.date(2020, 6, 18): 26.776, datetime.date(2020, 6, 17): 26.7424, datetime.date(2020, 6, 16): 26.844, datetime.date(2020, 6, 15): 26.7303, datetime.date(2020, 6, 14): 26.5999, datetime.date(2020, 6, 13): 26.5999, datetime.date(2020, 6, 12): 26.5999, datetime.date(2020, 6, 11): 26.6367, datetime.date(2020, 6, 10): 26.6412, datetime.date(2020, 6, 9): 26.6005, datetime.date(2020, 6, 8): 26.6953, datetime.date(2020, 6, 7): 26.6953, datetime.date(2020, 6, 6): 26.6953, datetime.date(2020, 6, 5): 26.6953, datetime.date(2020, 6, 4): 26.7544, datetime.date(2020, 6, 3): 26.7955, datetime.date(2020, 6, 2): 26.8181, datetime.date(2020, 6, 1): 26.8685, datetime.date(2020, 5, 31): 26.9059, datetime.date(2020, 5, 30): 26.9059, datetime.date(2020, 5, 29): 26.9059, datetime.date(2020, 5, 28): 27.0002, datetime.date(2020, 5, 27): 26.9029, datetime.date(2020, 5, 26): 26.8742, datetime.date(2020, 5, 25): 26.7556, datetime.date(2020, 5, 24): 26.7699, datetime.date(2020, 5, 23): 26.7699, datetime.date(2020, 5, 22): 26.7699, datetime.date(2020, 5, 21): 26.5854, datetime.date(2020, 5, 20): 26.5159, datetime.date(2020, 5, 19): 26.571, datetime.date(2020, 5, 18): 26.638, datetime.date(2020, 5, 17): 26.6792, datetime.date(2020, 5, 16): 26.6792, datetime.date(2020, 5, 15): 26.6792, datetime.date(2020, 5, 14): 26.6897, datetime.date(2020, 5, 13): 26.7947, datetime.date(2020, 5, 12): 26.8196, datetime.date(2020, 5, 11): 26.8185, datetime.date(2020, 5, 10): 26.8185, datetime.date(2020, 5, 9): 26.8185, datetime.date(2020, 5, 8): 26.8185, datetime.date(2020, 5, 7): 26.9323, datetime.date(2020, 5, 6): 26.9774, datetime.date(2020, 5, 5): 26.9749, datetime.date(2020, 5, 4): 26.9592, datetime.date(2020, 5, 3): 26.9714, datetime.date(2020, 5, 2): 26.9714, datetime.date(2020, 5, 1): 26.9714, datetime.date(2020, 4, 30): 26.9714, datetime.date(2020, 4, 29): 27.0485, datetime.date(2020, 4, 28): 27.1025, datetime.date(2020, 4, 27): 27.1441, datetime.date(2020, 4, 26): 27.0137, datetime.date(2020, 4, 25): 27.0137, datetime.date(2020, 4, 24): 27.0137, datetime.date(2020, 4, 23): 27.0536, datetime.date(2020, 4, 22): 27.0815, datetime.date(2020, 4, 21): 27.0774, datetime.date(2020, 4, 20): 27.2022, datetime.date(2020, 4, 19): 27.2022, datetime.date(2020, 4, 18): 27.2022, datetime.date(2020, 4, 17): 27.2022, datetime.date(2020, 4, 16): 27.2219, datetime.date(2020, 4, 15): 27.0899, datetime.date(2020, 4, 14): 27.0404, datetime.date(2020, 4, 13): 27.2022, datetime.date(2020, 4, 12): 27.2598, datetime.date(2020, 4, 11): 27.2598, datetime.date(2020, 4, 10): 27.2598, datetime.date(2020, 4, 9): 27.1965, datetime.date(2020, 4, 8): 27.0996, datetime.date(2020, 4, 7): 27.2365, datetime.date(2020, 4, 6): 27.373, datetime.date(2020, 4, 5): 27.5962, datetime.date(2020, 4, 4): 27.5962, datetime.date(2020, 4, 3): 27.5962, datetime.date(2020, 4, 2): 27.7538, datetime.date(2020, 4, 1): 27.6289, datetime.date(2020, 3, 31): 28.0615, datetime.date(2020, 3, 30): 28.183, datetime.date(2020, 3, 29): 28.1381, datetime.date(2020, 3, 28): 28.1381, datetime.date(2020, 3, 27): 28.1381, datetime.date(2020, 3, 26): 27.9552, datetime.date(2020, 3, 25): 27.7728, datetime.date(2020, 3, 24): 28.1126, datetime.date(2020, 3, 23): 27.7386, datetime.date(2020, 3, 22): 27.8025, datetime.date(2020, 3, 21): 27.8025, datetime.date(2020, 3, 20): 27.8025, datetime.date(2020, 3, 19): 27.2685, datetime.date(2020, 3, 18): 27.0566, datetime.date(2020, 3, 17): 26.5249, datetime.date(2020, 3, 16): 26.089, datetime.date(2020, 3, 15): 25.858, datetime.date(2020, 3, 14): 25.858, datetime.date(2020, 3, 13): 25.858, datetime.date(2020, 3, 12): 25.624, datetime.date(2020, 3, 11): 25.3135, datetime.date(2020, 3, 10): 24.9215, datetime.date(2020, 3, 9): 24.7413, datetime.date(2020, 3, 8): 24.7413, datetime.date(2020, 3, 7): 24.7413, datetime.date(2020, 3, 6): 24.7413, datetime.date(2020, 3, 5): 24.8908, datetime.date(2020, 3, 4): 24.9386, datetime.date(2020, 3, 3): 24.818, datetime.date(2020, 3, 2): 24.59, datetime.date(2020, 3, 1): 24.561, datetime.date(2020, 2, 29): 24.561, datetime.date(2020, 2, 28): 24.561, datetime.date(2020, 2, 27): 24.649, datetime.date(2020, 2, 26): 24.5307, datetime.date(2020, 2, 25): 24.4995, datetime.date(2020, 2, 24): 24.453, datetime.date(2020, 2, 23): 24.4777, datetime.date(2020, 2, 22): 24.4777, datetime.date(2020, 2, 21): 24.4777, datetime.date(2020, 2, 20): 24.5231, datetime.date(2020, 2, 19): 24.4431, datetime.date(2020, 2, 18): 24.4456, datetime.date(2020, 2, 17): 24.447, datetime.date(2020, 2, 16): 24.4795, datetime.date(2020, 2, 15): 24.4795, datetime.date(2020, 2, 14): 24.4795, datetime.date(2020, 2, 13): 24.4966, datetime.date(2020, 2, 12): 24.4236, datetime.date(2020, 2, 11): 24.5188, datetime.date(2020, 2, 10): 24.537, datetime.date(2020, 2, 9): 24.5794, datetime.date(2020, 2, 8): 24.5794, datetime.date(2020, 2, 7): 24.5794, datetime.date(2020, 2, 6): 24.7959, datetime.date(2020, 2, 5): 24.8523, datetime.date(2020, 2, 4): 25.0836, datetime.date(2020, 2, 3): 25.0294, datetime.date(2020, 2, 2): 24.9196, datetime.date(2020, 2, 1): 24.9196, datetime.date(2020, 1, 31): 24.9196, datetime.date(2020, 1, 30): 24.8491, datetime.date(2020, 1, 29): 24.7204, datetime.date(2020, 1, 28): 24.5984, datetime.date(2020, 1, 27): 24.3301, datetime.date(2020, 1, 26): 24.5212, datetime.date(2020, 1, 25): 24.5212, datetime.date(2020, 1, 24): 24.5212, datetime.date(2020, 1, 23): 24.331, datetime.date(2020, 1, 22): 24.2586, datetime.date(2020, 1, 21): 24.3257, datetime.date(2020, 1, 20): 24.2527, datetime.date(2020, 1, 19): 24.0923, datetime.date(2020, 1, 18): 24.0923, datetime.date(2020, 1, 17): 24.0923, datetime.date(2020, 1, 16): 23.9821, datetime.date(2020, 1, 15): 24.0257, datetime.date(2020, 1, 14): 23.9275, datetime.date(2020, 1, 13): 23.9677, datetime.date(2020, 1, 12): 23.9677, datetime.date(2020, 1, 11): 23.9677}\n"
     ]
    }
   ],
   "source": [
    "# Получения курса доллара за последний год\n",
    "\n",
    "import datetime\n",
    "\n",
    "c_date = datetime.date.today()\n",
    "\n",
    "\n",
    "rates = {} \n",
    "\n",
    "for i in range(0, 366):\n",
    "    other_date=c_date-datetime.timedelta(i) \n",
    "    params={'date':other_date.strftime('%Y%m%d')}\n",
    "    \n",
    "    r=requests.get('https://bank.gov.ua/NBUStatService/v1/statdirectory/exchange?valcode=USD&json', params).json()\n",
    "    \n",
    "    rates[other_date] = r[0]['rate']\n",
    "\n",
    "print(rates)\n",
    "\n"
   ]
  },
  {
   "cell_type": "code",
   "execution_count": 7,
   "metadata": {},
   "outputs": [
    {
     "name": "stdout",
     "output_type": "stream",
     "text": [
      "Среднее значение курса за месяц:\n",
      "(1, 25.606706451612904)\n",
      "(2, 24.596524137931034)\n",
      "(3, 26.412293548387098)\n",
      "(4, 27.224653333333332)\n",
      "(5, 26.814329032258065)\n",
      "(6, 26.707343333333334)\n",
      "(7, 27.31283870967742)\n",
      "(8, 27.52141935483871)\n",
      "(9, 27.97671666666667)\n",
      "(10, 28.324951612903227)\n",
      "(11, 28.310153333333332)\n",
      "(12, 28.16971935483871)\n",
      "\n",
      "Отклонение курса за месяц:\n",
      "(1, 1.9439483208040762)\n",
      "(2, 0.1876579670859657)\n",
      "(3, 1.4218997507877702)\n",
      "(4, 0.20976090121412252)\n",
      "(5, 0.13470483335438327)\n",
      "(6, 0.07284717438646436)\n",
      "(7, 0.3642097762530265)\n",
      "(8, 0.14819453525541967)\n",
      "(9, 0.2409137677795668)\n",
      "(10, 0.055517948274816174)\n",
      "(11, 0.1508870820853458)\n",
      "(12, 0.24976838393380232)\n"
     ]
    }
   ],
   "source": [
    "# Среднее значение и отклонение курса за месяц\n",
    "\n",
    "import statistics\n",
    "\n",
    "mean_rates={}       \n",
    "stand_deviation = {}\n",
    "\n",
    "for m in range (1,13):\n",
    "    rates_per_month=[rates[i] for i in rates.keys() if i.month==m] \n",
    "    mean_rates[m]=statistics.mean(rates_per_month)   \n",
    "    stand_deviation[m]=statistics.stdev(rates_per_month) \n",
    "\n",
    "print('Среднее значение курса за месяц:')\n",
    "for el in mean_rates.items():\n",
    "    print(el)\n",
    "    \n",
    "print()\n",
    "print('Отклонение курса за месяц:')\n",
    "for el in stand_deviation.items():\n",
    "    print(el)"
   ]
  },
  {
   "cell_type": "code",
   "execution_count": null,
   "metadata": {},
   "outputs": [],
   "source": []
  }
 ],
 "metadata": {
  "kernelspec": {
   "display_name": "Python 3",
   "language": "python",
   "name": "python3"
  },
  "language_info": {
   "codemirror_mode": {
    "name": "ipython",
    "version": 3
   },
   "file_extension": ".py",
   "mimetype": "text/x-python",
   "name": "python",
   "nbconvert_exporter": "python",
   "pygments_lexer": "ipython3",
   "version": "3.8.3"
  }
 },
 "nbformat": 4,
 "nbformat_minor": 4
}
