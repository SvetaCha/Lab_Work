{
 "cells": [
  {
   "cell_type": "markdown",
   "metadata": {},
   "source": [
    "# Задание 1\n",
    "\n",
    "* Вывести информаци о БД\n",
    "* Вывести поля таблицы БД\n",
    "* Схема БД"
   ]
  },
  {
   "cell_type": "code",
   "execution_count": 15,
   "metadata": {},
   "outputs": [
    {
     "name": "stdout",
     "output_type": "stream",
     "text": [
      "Информация про данную БД:\n",
      "[('table', 'Customers', 'Customers', 2, 'CREATE TABLE Customers\\n(\\n  cust_id      char(10)  NOT NULL ,\\n  cust_name    char(50)  NOT NULL ,\\n  cust_address char(50)  NULL ,\\n  cust_city    char(50)  NULL ,\\n  cust_state   char(5)   NULL ,\\n  cust_zip     char(10)  NULL ,\\n  cust_country char(50)  NULL ,\\n  cust_contact char(50)  NULL ,\\n  cust_email   char(255) NULL ,\\n  PRIMARY KEY (cust_id)\\n)'), ('index', 'sqlite_autoindex_Customers_1', 'Customers', 3, None), ('table', 'OrderItems', 'OrderItems', 4, 'CREATE TABLE OrderItems\\n(\\n  order_num  int          NOT NULL                      ,\\n  order_item int          NOT NULL                      ,\\n  prod_id    char(10)     NOT NULL                      ,\\n  quantity   int          NOT NULL                      ,\\n  item_price decimal(8,2) NOT NULL                      ,\\n  PRIMARY KEY (order_num, order_item)                   ,\\n  FOREIGN KEY (order_num) REFERENCES Orders (order_num) ,\\n  FOREIGN KEY (prod_id) REFERENCES Products (prod_id)\\n)'), ('index', 'sqlite_autoindex_OrderItems_1', 'OrderItems', 5, None), ('table', 'Orders', 'Orders', 7, 'CREATE TABLE Orders\\n(\\n  order_num  int      NOT NULL ,\\n  order_date datetime NOT NULL ,\\n  cust_id    char(10) NOT NULL ,\\n  PRIMARY KEY (order_num)      ,\\n  FOREIGN KEY (cust_id) REFERENCES Customers (cust_id)\\n)'), ('index', 'sqlite_autoindex_Orders_1', 'Orders', 9, None), ('table', 'Products', 'Products', 10, 'CREATE TABLE Products\\n(\\n  prod_id    char(10)      NOT NULL ,\\n  vend_id    char(10)      NOT NULL ,\\n  prod_name  char(255)     NOT NULL ,\\n  prod_price decimal(8,2)  NOT NULL ,\\n  prod_desc  text          NULL     ,\\n  PRIMARY KEY (prod_id)             ,\\n  FOREIGN KEY (vend_id) REFERENCES Vendors (vend_id)\\n)'), ('index', 'sqlite_autoindex_Products_1', 'Products', 11, None), ('table', 'Vendors', 'Vendors', 12, 'CREATE TABLE Vendors\\n(\\n  vend_id      char(10) NOT NULL ,\\n  vend_name    char(50) NOT NULL ,\\n  vend_address char(50) NULL     ,\\n  vend_city    char(50) NULL     ,\\n  vend_state   char(5)  NULL     ,\\n  vend_zip     char(10) NULL     ,\\n  vend_country char(50) NULL     ,\\n  PRIMARY KEY (vend_id)\\n)'), ('index', 'sqlite_autoindex_Vendors_1', 'Vendors', 13, None)]\n"
     ]
    }
   ],
   "source": [
    "import sqlite3\n",
    "\n",
    "\n",
    "def result(sql_text):\n",
    "    conn = sqlite3.connect('tysql.sqlite')\n",
    "    curs = conn.cursor()\n",
    "    ex = curs.execute(sql_text)\n",
    "    return ex\n",
    "\n",
    "print('Информация про данную БД:')  \n",
    "\n",
    "sql_text = \"SELECT * FROM sqlite_master\"\n",
    "row = result(sql_text).fetchall()\n",
    "print(row)\n"
   ]
  },
  {
   "cell_type": "code",
   "execution_count": 17,
   "metadata": {},
   "outputs": [
    {
     "name": "stdout",
     "output_type": "stream",
     "text": [
      "Поля в таблице:\n",
      "Customers\n",
      "OrderItems\n",
      "Orders\n",
      "Products\n",
      "Vendors\n"
     ]
    }
   ],
   "source": [
    "sql_text = \"SELECT name FROM sqlite_master WHERE type = 'table'\"\n",
    "print('Поля в таблице:')\n",
    "tables = result(sql_text).fetchall()\n",
    "for el in tables:\n",
    "    print(el[0])\n"
   ]
  },
  {
   "cell_type": "code",
   "execution_count": 18,
   "metadata": {},
   "outputs": [
    {
     "name": "stdout",
     "output_type": "stream",
     "text": [
      "Схема БД:\n",
      "Customers\n",
      "(0, 'cust_id', 'char(10)', 1, None, 1)\n",
      "(1, 'cust_name', 'char(50)', 1, None, 0)\n",
      "(2, 'cust_address', 'char(50)', 0, None, 0)\n",
      "(3, 'cust_city', 'char(50)', 0, None, 0)\n",
      "(4, 'cust_state', 'char(5)', 0, None, 0)\n",
      "(5, 'cust_zip', 'char(10)', 0, None, 0)\n",
      "(6, 'cust_country', 'char(50)', 0, None, 0)\n",
      "(7, 'cust_contact', 'char(50)', 0, None, 0)\n",
      "(8, 'cust_email', 'char(255)', 0, None, 0)\n",
      "OrderItems\n",
      "(0, 'order_num', 'int', 1, None, 1)\n",
      "(1, 'order_item', 'int', 1, None, 2)\n",
      "(2, 'prod_id', 'char(10)', 1, None, 0)\n",
      "(3, 'quantity', 'int', 1, None, 0)\n",
      "(4, 'item_price', 'decimal(8,2)', 1, None, 0)\n",
      "Orders\n",
      "(0, 'order_num', 'int', 1, None, 1)\n",
      "(1, 'order_date', 'datetime', 1, None, 0)\n",
      "(2, 'cust_id', 'char(10)', 1, None, 0)\n",
      "Products\n",
      "(0, 'prod_id', 'char(10)', 1, None, 1)\n",
      "(1, 'vend_id', 'char(10)', 1, None, 0)\n",
      "(2, 'prod_name', 'char(255)', 1, None, 0)\n",
      "(3, 'prod_price', 'decimal(8,2)', 1, None, 0)\n",
      "(4, 'prod_desc', 'text', 0, None, 0)\n",
      "Vendors\n",
      "(0, 'vend_id', 'char(10)', 1, None, 1)\n",
      "(1, 'vend_name', 'char(50)', 1, None, 0)\n",
      "(2, 'vend_address', 'char(50)', 0, None, 0)\n",
      "(3, 'vend_city', 'char(50)', 0, None, 0)\n",
      "(4, 'vend_state', 'char(5)', 0, None, 0)\n",
      "(5, 'vend_zip', 'char(10)', 0, None, 0)\n",
      "(6, 'vend_country', 'char(50)', 0, None, 0)\n"
     ]
    }
   ],
   "source": [
    "tables = [t[0] for t in tables]\n",
    "\n",
    "\n",
    "print('Схема БД:')\n",
    "for t in tables:\n",
    "    print (t)\n",
    "    sql_text = \"PRAGMA table_info(%s)\" %t\n",
    "    for row in result(sql_text).fetchall():\n",
    "        print(row)\n",
    "        \n",
    "        \n"
   ]
  },
  {
   "cell_type": "markdown",
   "metadata": {},
   "source": [
    "# Задание 2\n",
    "\n",
    "* Вывести все cust_id из таблицы Customers table\n",
    "* Вывести всю таблицу Customers table\n",
    "* Список клиентов cust_name (отсортировав их от Z до A)\n",
    "* Таблицу клиентов и заказов (cust_id и order_num). Отсортировать по клиенту и дате заказа.\n",
    "* Таблицу (на основе items) с кол-вом и ценною товара. Отсортировать в порядке уменьшения кол-ва товаров\n",
    "* Товар (из таблицы Products), с ценой 9,49.\n",
    "* Вывести название товара с ценой в диапазоне от 3 до 6. Отсортировать результат по цене в порядке возрастания."
   ]
  },
  {
   "cell_type": "code",
   "execution_count": 54,
   "metadata": {},
   "outputs": [],
   "source": [
    "def execute(sql_text):\n",
    "    conn = sqlite3.connect('tysql.sqlite')\n",
    "    curs = conn.cursor()\n",
    "    curs.execute(sql_text)\n",
    "    for row in curs.fetchall():\n",
    "        print(row)"
   ]
  },
  {
   "cell_type": "code",
   "execution_count": 55,
   "metadata": {},
   "outputs": [
    {
     "name": "stdout",
     "output_type": "stream",
     "text": [
      "Список всех cust_id з Customers\n",
      "\n",
      "('1000000001',)\n",
      "('1000000002',)\n",
      "('1000000003',)\n",
      "('1000000004',)\n",
      "('1000000005',)\n"
     ]
    }
   ],
   "source": [
    "# Список всех cust_id з Customers:\n",
    "\n",
    "sql_text = \"\"\"\n",
    "SELECT cust_id\n",
    "FROM Customers\n",
    "\"\"\"\n",
    "print('Список всех cust_id з Customers\\n')\n",
    "#execute_with_print(sql_text)\n",
    "execute(sql_text)"
   ]
  },
  {
   "cell_type": "code",
   "execution_count": 56,
   "metadata": {},
   "outputs": [
    {
     "name": "stdout",
     "output_type": "stream",
     "text": [
      "Вся таблица Customer Table:\n",
      "\n",
      "('1000000001', 'Village Toys', '200 Maple Lane', 'Detroit', 'MI', '44444', 'USA', 'John Smith', 'sales@villagetoys.com')\n",
      "('1000000002', 'Kids Place', '333 South Lake Drive', 'Columbus', 'OH', '43333', 'USA', 'Michelle Green', None)\n",
      "('1000000003', 'Fun4All', '1 Sunny Place', 'Muncie', 'IN', '42222', 'USA', 'Jim Jones', 'jjones@fun4all.com')\n",
      "('1000000004', 'Fun4All', '829 Riverside Drive', 'Phoenix', 'AZ', '88888', 'USA', 'Denise L. Stephens', 'dstephens@fun4all.com')\n",
      "('1000000005', 'The Toy Store', '4545 53rd Street', 'Chicago', 'IL', '54545', 'USA', 'Kim Howard', None)\n"
     ]
    }
   ],
   "source": [
    "# Вся таблица Customer Table:\n",
    "\n",
    "sql_text = \"\"\"\n",
    "SELECT *\n",
    "FROM Customers\n",
    "\"\"\"\n",
    "print('Вся таблица Customer Table:\\n')\n",
    "\n",
    "execute(sql_text)"
   ]
  },
  {
   "cell_type": "code",
   "execution_count": 57,
   "metadata": {},
   "outputs": [
    {
     "name": "stdout",
     "output_type": "stream",
     "text": [
      "Cust_name сортировка от Z до A\n",
      "\n",
      "('Village Toys',)\n",
      "('The Toy Store',)\n",
      "('Kids Place',)\n",
      "('Fun4All',)\n",
      "('Fun4All',)\n"
     ]
    }
   ],
   "source": [
    "# Список клиентов cust_name (отсортировав их от Z до A):\n",
    "\n",
    "sql_text = \"\"\"\n",
    "SELECT cust_name\n",
    "FROM Customers\n",
    "ORDER BY cust_name DESC\n",
    "\"\"\"\n",
    "print('Cust_name сортировка от Z до A\\n')\n",
    "execute(sql_text)"
   ]
  },
  {
   "cell_type": "code",
   "execution_count": 58,
   "metadata": {},
   "outputs": [
    {
     "name": "stdout",
     "output_type": "stream",
     "text": [
      "Таблица клиентов и заказов (cust_id и order_num). Отсортированые по клиенту и дате заказа:\n",
      "\n",
      "('1000000001', 20009)\n",
      "('1000000001', 20005)\n",
      "('1000000003', 20006)\n",
      "('1000000004', 20007)\n",
      "('1000000005', 20008)\n"
     ]
    }
   ],
   "source": [
    "# Таблица клиентов и заказов (cust_id и order_num). Отсортированые по клиенту и дате заказа:\n",
    "\n",
    "sql_text = \"\"\"\n",
    "SELECT cust_id, order_num\n",
    "FROM Orders\n",
    "ORDER BY cust_id, order_date\n",
    "\"\"\"\n",
    "print('Таблица клиентов и заказов (cust_id и order_num). Отсортированые по клиенту и дате заказа:\\n')\n",
    "execute(sql_text)"
   ]
  },
  {
   "cell_type": "code",
   "execution_count": 59,
   "metadata": {},
   "outputs": [
    {
     "name": "stdout",
     "output_type": "stream",
     "text": [
      "Таблица (на основе items) с кол-вом и ценною товара. Отсортированые в порядке уменьшения по кол-ву товаров\n",
      "\n",
      "(250, 2.49)\n",
      "(250, 2.49)\n",
      "(250, 2.49)\n",
      "(100, 5.49)\n",
      "(100, 10.99)\n",
      "(100, 2.99)\n",
      "(100, 2.99)\n",
      "(100, 2.99)\n",
      "(50, 11.49)\n",
      "(50, 4.49)\n",
      "(20, 5.99)\n",
      "(10, 8.99)\n",
      "(10, 11.99)\n",
      "(10, 3.49)\n",
      "(10, 3.49)\n",
      "(10, 3.49)\n",
      "(5, 4.99)\n",
      "(5, 11.99)\n"
     ]
    }
   ],
   "source": [
    "# Таблица (на основе items) с кол-вом и ценною товара. Отсортированые в порядке уменьшения по кол-ву товаров:\n",
    "\n",
    "\n",
    "sql_text = \"\"\"\n",
    "SELECT quantity, item_price\n",
    "FROM OrderItems\n",
    "ORDER BY quantity DESC\n",
    "\"\"\"\n",
    "\n",
    "print('Таблица (на основе items) с кол-вом и ценною товара. Отсортированые в порядке уменьшения по кол-ву товаров\\n')\n",
    "execute(sql_text)"
   ]
  },
  {
   "cell_type": "code",
   "execution_count": 60,
   "metadata": {},
   "outputs": [
    {
     "name": "stdout",
     "output_type": "stream",
     "text": [
      "Товар с ценой 9,49\n",
      "\n",
      "('King doll', 9.49)\n",
      "('Queen doll', 9.49)\n"
     ]
    }
   ],
   "source": [
    "# Товар (из таблицы Products), с ценой 9,49:\n",
    "\n",
    "sql_text = \"\"\"\n",
    "SELECT prod_name, prod_price\n",
    "FROM Products\n",
    "WHERE prod_price = 9.49\n",
    "\"\"\"\n",
    "print('Товар с ценой 9,49\\n')\n",
    "execute(sql_text)"
   ]
  },
  {
   "cell_type": "code",
   "execution_count": 61,
   "metadata": {},
   "outputs": [
    {
     "name": "stdout",
     "output_type": "stream",
     "text": [
      "Название товара с ценой в диапазоне от 3 до 6 (в порядке возрастания) \n",
      "\n",
      "('Fish bean bag toy', 3.49)\n",
      "('Bird bean bag toy', 3.49)\n",
      "('Rabbit bean bag toy', 3.49)\n",
      "('Raggedy Ann', 4.99)\n",
      "('8 inch teddy bear', 5.99)\n"
     ]
    }
   ],
   "source": [
    "# Название товара с ценой в диапазоне от 3 до 6. Отсортировать результат по цене в порядке возрастания.\n",
    "\n",
    "\n",
    "sql_text = \"\"\"\n",
    "SELECT prod_name, prod_price\n",
    "FROM Products\n",
    "WHERE prod_price BETWEEN 3 AND 6\n",
    "ORDER BY prod_price \n",
    "\"\"\"\n",
    "print('Название товара с ценой в диапазоне от 3 до 6 (в порядке возрастания) \\n')\n",
    "execute(sql_text)"
   ]
  },
  {
   "cell_type": "markdown",
   "metadata": {},
   "source": [
    "# Задание 3\n",
    "\n",
    "* Кол-во товара что было продано\n",
    "* Кол-во товаров с ценой больше 4\n",
    "* Алгоритм который выведит 3 самых дрогих товаров в БД\n",
    "* Посчитать кол-во заказов для каждого клиента\n",
    "* Вывести список клиентов и их заказов (при помощи join)\n",
    "* Выполнить два запроса: список товаров цена которых меньше 5; и список товаров цена которых больше/равна 5\n",
    "(при помощи Union)"
   ]
  },
  {
   "cell_type": "code",
   "execution_count": 63,
   "metadata": {},
   "outputs": [
    {
     "name": "stdout",
     "output_type": "stream",
     "text": [
      "Количество товаров которые были проданы всего:\n",
      "(1430,)\n"
     ]
    }
   ],
   "source": [
    "# Кол-во товара что было продано:\n",
    "\n",
    "sql_text = \"\"\" SELECT SUM(quantity)\n",
    "               FROM OrderItems\n",
    "\"\"\"\n",
    "\n",
    "print('Количество товаров которые были проданы всего:')\n",
    "execute(sql_text)\n",
    "\n",
    "\n"
   ]
  },
  {
   "cell_type": "code",
   "execution_count": 65,
   "metadata": {},
   "outputs": [
    {
     "name": "stdout",
     "output_type": "stream",
     "text": [
      "Кол-во товаров с ценой больше 4\n",
      "\n",
      "(6,)\n"
     ]
    }
   ],
   "source": [
    "# Кол-во товаров с ценой больше 4\n",
    "\n",
    "sql_text = \"\"\"\n",
    "SELECT count(prod_id) FROM Products\n",
    "WHERE prod_price > 4\n",
    "\"\"\"\n",
    "print('Кол-во товаров с ценой больше 4\\n')\n",
    "execute(sql_text)"
   ]
  },
  {
   "cell_type": "code",
   "execution_count": 66,
   "metadata": {},
   "outputs": [
    {
     "name": "stdout",
     "output_type": "stream",
     "text": [
      "3 самых дрогих товаров в базе\n",
      "\n",
      "('18 inch teddy bear', 11.99)\n",
      "('King doll', 9.49)\n",
      "('Queen doll', 9.49)\n"
     ]
    }
   ],
   "source": [
    "# 3 самых дрогих товаров в базе\n",
    "\n",
    "sql_text = \"\"\"\n",
    "SELECT prod_name, prod_price\n",
    "FROM Products\n",
    "ORDER BY prod_price DESC\n",
    "LIMIT 3\n",
    "\"\"\"\n",
    "print('3 самых дрогих товаров в базе\\n')\n",
    "execute(sql_text)"
   ]
  },
  {
   "cell_type": "code",
   "execution_count": 67,
   "metadata": {},
   "outputs": [
    {
     "name": "stdout",
     "output_type": "stream",
     "text": [
      "кол-во заказов для каждого клиента\n",
      "\n",
      "('1000000001', 2)\n",
      "('1000000003', 1)\n",
      "('1000000004', 1)\n",
      "('1000000005', 1)\n"
     ]
    }
   ],
   "source": [
    "# кол-во заказов для каждого клиента (используя подзапрос)\n",
    "\n",
    "sql_text= \"\"\"\n",
    "SELECT cust_id AS c1, SUM(1)\n",
    "FROM (SELECT cust_id FROM Orders)\n",
    "GROUP BY cust_id\n",
    "\"\"\"\n",
    "print('кол-во заказов для каждого клиента\\n')\n",
    "execute(sql_text)"
   ]
  },
  {
   "cell_type": "code",
   "execution_count": 68,
   "metadata": {},
   "outputs": [
    {
     "name": "stdout",
     "output_type": "stream",
     "text": [
      "Список клиентов и их заказов\n",
      "\n",
      "('Village Toys', 20005)\n",
      "('Fun4All', 20006)\n",
      "('Fun4All', 20007)\n",
      "('The Toy Store', 20008)\n",
      "('Village Toys', 20009)\n"
     ]
    }
   ],
   "source": [
    "# Список клиентов и их заказов (при помощи join)\n",
    "\n",
    "sql_text = \"\"\"\n",
    "SELECT cust_name, order_num\n",
    "FROM Orders\n",
    "JOIN Customers on Customers.cust_id=Orders.cust_id\n",
    "\"\"\"\n",
    "print('Список клиентов и их заказов\\n')\n",
    "execute(sql_text)"
   ]
  },
  {
   "cell_type": "code",
   "execution_count": 70,
   "metadata": {},
   "outputs": [
    {
     "name": "stdout",
     "output_type": "stream",
     "text": [
      "Список товаров цена которых меньше 5;  список товаров цена которых больше и равна 5\n",
      "\n",
      "('12 inch teddy bear', 8.99)\n",
      "('18 inch teddy bear', 11.99)\n",
      "('8 inch teddy bear', 5.99)\n",
      "('Bird bean bag toy', 3.49)\n",
      "('Fish bean bag toy', 3.49)\n",
      "('King doll', 9.49)\n",
      "('Queen doll', 9.49)\n",
      "('Rabbit bean bag toy', 3.49)\n",
      "('Raggedy Ann', 4.99)\n"
     ]
    }
   ],
   "source": [
    "# Список товаров цена которых меньше 5;  список товаров цена которых больше и равна 5 (при помощи UNION)\n",
    "\n",
    "\n",
    "sql_text = \"\"\"\n",
    "SELECT prod_name, prod_price\n",
    "FROM Products\n",
    "WHERE prod_price < 5\n",
    "\n",
    "UNION\n",
    "\n",
    "SELECT prod_name, prod_price \n",
    "FROM Products\n",
    "WHERE prod_price >= 5\n",
    "\"\"\"\n",
    "print(\"Список товаров цена которых меньше 5;  список товаров цена которых больше и равна 5\\n\")\n",
    "execute(sql_text)"
   ]
  },
  {
   "cell_type": "code",
   "execution_count": null,
   "metadata": {},
   "outputs": [],
   "source": []
  }
 ],
 "metadata": {
  "kernelspec": {
   "display_name": "Python 3",
   "language": "python",
   "name": "python3"
  },
  "language_info": {
   "codemirror_mode": {
    "name": "ipython",
    "version": 3
   },
   "file_extension": ".py",
   "mimetype": "text/x-python",
   "name": "python",
   "nbconvert_exporter": "python",
   "pygments_lexer": "ipython3",
   "version": "3.8.3"
  }
 },
 "nbformat": 4,
 "nbformat_minor": 4
}
