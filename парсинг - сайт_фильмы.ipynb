{
 "cells": [
  {
   "cell_type": "code",
   "execution_count": 32,
   "metadata": {},
   "outputs": [
    {
     "name": "stdout",
     "output_type": "stream",
     "text": [
      "парсим страницу: 1\n",
      "парсим страницу: 2\n",
      "парсим страницу: 3\n",
      "парсим страницу: 4\n",
      "[{'title': 'Альфа та Омега: Зубата братва', 'ratio': 'Дитячі', 'link_film': 'https://sweet.tv/movie/6120-alfa-ta-omega-zubata-bratva'}, {'title': 'Смурфики', 'ratio': 'Дитячі', 'link_film': 'https://sweet.tv/movie/7351-smurfiki'}, {'title': 'Пожежник Сем: 8 Сезон', 'ratio': 'Дитячі', 'link_film': 'https://sweet.tv/movie/20808-pozhezhnik-sem-8-sezon'}, {'title': 'Полювання на монстра', 'ratio': 'Пригоди', 'link_film': 'https://sweet.tv/movie/9135-polyuvannya-na-monstra'}, {'title': 'Шерлок Гномс', 'ratio': 'Дитячі', 'link_film': 'https://sweet.tv/movie/16183-sherlok-gnoms'}, {'title': 'Ману', 'ratio': 'Комедії, Пригоди', 'link_film': 'https://sweet.tv/movie/20795-manu'}, {'title': 'Риф. Нові пригоди', 'ratio': 'Пригоди', 'link_film': 'https://sweet.tv/movie/20794-rif-novi-prigodi'}, {'title': 'Монстр у Парижі', 'ratio': 'Дитячі', 'link_film': 'https://sweet.tv/movie/6875-monstr-u-parizhi'}, {'title': 'Супер шістка', 'ratio': 'Дитячі', 'link_film': 'https://sweet.tv/movie/16478-super-shistka'}, {'title': 'Індики: повернення в майбутнє', 'ratio': 'Дитячі', 'link_film': 'https://sweet.tv/movie/7954-indiki-povernennya-v-maybutnye'}, {'title': 'Ніко 2', 'ratio': 'Дитячі', 'link_film': 'https://sweet.tv/movie/7232-niko-2'}, {'title': 'Темна Ліга Справедливості: Війна Апокаліпса', 'ratio': 'Дитячі', 'link_film': 'https://sweet.tv/movie/20463-temna-liga-spravedlivosti-viyna-apokalipsa'}, {'title': 'Реальна білка 2', 'ratio': 'Комедії, Пригоди', 'link_film': 'https://sweet.tv/movie/11911-realna-bilka-2'}, {'title': 'Повернення гномів', 'ratio': 'Пригоди', 'link_film': 'https://sweet.tv/movie/20777-povernennya-gnomiv'}, {'title': 'Коко', 'ratio': 'Дитячі', 'link_film': 'https://sweet.tv/movie/19876-koko'}, {'title': 'Бджілка Майя: 2 Сезон', 'ratio': 'Дитячі', 'link_film': 'https://sweet.tv/movie/11561-bdzhilka-mayya-2-sezon'}, {'title': 'Інуї: 2 сезон', 'ratio': 'Дитячі', 'link_film': 'https://sweet.tv/movie/16546-inuji-2-sezon'}, {'title': 'Таємна місія Санти', 'ratio': 'Дитячі', 'link_film': 'https://sweet.tv/movie/7276-tayemna-misiya-santi'}, {'title': 'Робокар Полі 2 сезон', 'ratio': 'Дитячі', 'link_film': 'https://sweet.tv/movie/20760-robokar-poli-2-sezon'}, {'title': 'Супер монстри: 2 сезон', 'ratio': 'Комедії, Пригоди, Дитячі', 'link_film': 'https://sweet.tv/movie/20759-super-monstri-2-sezon'}, {'title': 'Angry Birds у кіно 2', 'ratio': 'Дитячі', 'link_film': 'https://sweet.tv/movie/17780-angry-birds-u-kino-2'}, {'title': 'Ведмедики Буні: Стрибок у минуле', 'ratio': 'Дитячі', 'link_film': 'https://sweet.tv/movie/20697-vedmediki-buni-stribok-u-minule'}, {'title': 'Єті', 'ratio': 'Дитячі', 'link_film': 'https://sweet.tv/movie/19490-yeti'}, {'title': 'Інуї: 1 сезон', 'ratio': 'Дитячі', 'link_film': 'https://sweet.tv/movie/11566-inuji-1-sezon'}, {'title': 'Робокар Полі', 'ratio': 'Дитячі', 'link_film': 'https://sweet.tv/movie/7773-robokar-poli'}, {'title': 'Добрий динозавр', 'ratio': 'Пригоди', 'link_film': 'https://sweet.tv/movie/20347-dobriy-dinozavr'}, {'title': 'Подружки-супергерої: 1 Сезон', 'ratio': 'Дитячі', 'link_film': 'https://sweet.tv/movie/17241-podruzhki-supergeroji-1-sezon'}, {'title': 'Людина-павук: Навколо всесвіту', 'ratio': 'Дитячі', 'link_film': 'https://sweet.tv/movie/17809-lyudina-pavuk-navkolo-vsesvitu'}, {'title': 'Принцеса Лебідь: Королівське весілля', 'ratio': 'Дитячі', 'link_film': 'https://sweet.tv/movie/20415-princesa-lebid-korolivske-vesillya'}, {'title': 'Мінлива хмарність, часом фрикадельки 2', 'ratio': 'Дитячі', 'link_film': 'https://sweet.tv/movie/10474-minliva-hmarnist-chasom-frikadelki-2'}, {'title': 'Принцеса Лебідь: Пірат чи принцеса?', 'ratio': 'Пригоди, Дитячі', 'link_film': 'https://sweet.tv/movie/8929-princesa-lebid-pirat-chi-princesa'}, {'title': 'Лови хвилю 2', 'ratio': 'Комедії, Пригоди', 'link_film': 'https://sweet.tv/movie/20194-lovi-hvilyu-2'}, {'title': 'Монстри на канікулах 3', 'ratio': 'Дитячі', 'link_film': 'https://sweet.tv/movie/17753-monstri-na-kanikulah-3'}, {'title': 'Пригоди Тінтіна: Таємниця єдинорога', 'ratio': 'Дитячі', 'link_film': 'https://sweet.tv/movie/9132-prigodi-tintina-tayemnicya-yedinoroga'}, {'title': 'Монстри на канікулах', 'ratio': 'Дитячі', 'link_film': 'https://sweet.tv/movie/7347-monstri-na-kanikulah'}, {'title': 'Смурфики 2', 'ratio': 'Дитячі', 'link_film': 'https://sweet.tv/movie/13378-smurfiki-2'}, {'title': 'Монстри на канікулах 2', 'ratio': 'Дитячі', 'link_film': 'https://sweet.tv/movie/17756-monstri-na-kanikulah-2'}, {'title': 'Angry Birds у кіно', 'ratio': 'Дитячі', 'link_film': 'https://sweet.tv/movie/16238-angry-birds-u-kino'}, {'title': 'Емоджі муві', 'ratio': 'Дитячі', 'link_film': 'https://sweet.tv/movie/11382-emodzhi-muvi'}, {'title': 'Провідна зірка', 'ratio': 'Дитячі', 'link_film': 'https://sweet.tv/movie/13678-providna-zirka'}, {'title': 'Смурфики: Загублене містечко', 'ratio': 'Дитячі', 'link_film': 'https://sweet.tv/movie/10630-smurfiki-zagublene-mistechko'}, {'title': 'Кролик Петрик', 'ratio': 'Дитячі', 'link_film': 'https://sweet.tv/movie/13945-krolik-petrik'}, {'title': 'Пірати! Банда невдах', 'ratio': 'Дитячі', 'link_film': 'https://sweet.tv/movie/7350-pirati-banda-nevdah'}, {'title': 'Літачки: Рятувальний загін', 'ratio': 'Дитячі', 'link_film': 'https://sweet.tv/movie/20294-litachki-ryatuvalniy-zagin'}, {'title': 'Літачки', 'ratio': 'Дитячі', 'link_film': 'https://sweet.tv/movie/20293-litachki'}, {'title': 'Супер монстри: 1 сезон', 'ratio': 'Дитячі', 'link_film': 'https://sweet.tv/movie/20641-super-monstri-1-sezon'}, {'title': 'Тролі: Світовий тур', 'ratio': 'Дитячі', 'link_film': 'https://sweet.tv/movie/19055-troli-svitoviy-tur'}, {'title': 'Тролі', 'ratio': 'Дитячі', 'link_film': 'https://sweet.tv/movie/9556-troli'}, {'title': 'Співай', 'ratio': 'Дитячі', 'link_film': 'https://sweet.tv/movie/10597-spivay'}, {'title': 'Секрети домашніх тварин', 'ratio': 'Дитячі', 'link_film': 'https://sweet.tv/movie/10475-sekreti-domashnih-tvarin'}, {'title': 'Містер Пібоді та Шерман', 'ratio': 'Комедії, Пригоди', 'link_film': 'https://sweet.tv/movie/9426-mister-pibodi-ta-sherman'}, {'title': 'Посіпаки', 'ratio': 'Дитячі', 'link_film': 'https://sweet.tv/movie/16790-posipaki'}, {'title': 'Панда Кунг-Фу 3', 'ratio': 'Дитячі', 'link_film': 'https://sweet.tv/movie/9098-panda-kung-fu-3'}, {'title': 'Бен 10 Проти Всесвіту', 'ratio': 'Дитячі', 'link_film': 'https://sweet.tv/movie/20471-ben-10-proti-vsesvitu'}, {'title': 'Тачки 3', 'ratio': 'Комедії, Пригоди', 'link_film': 'https://sweet.tv/movie/17127-tachki-3'}, {'title': 'Тачки 2', 'ratio': 'Дитячі', 'link_film': 'https://sweet.tv/movie/20292-tachki-2'}, {'title': 'Гоп', 'ratio': 'Дитячі', 'link_film': 'https://sweet.tv/movie/10747-gop'}, {'title': 'Нарешті вдома', 'ratio': 'Дитячі', 'link_film': 'https://sweet.tv/movie/15560-nareshti-vdoma'}, {'title': 'Нікчемний Я 3', 'ratio': 'Дитячі', 'link_film': 'https://sweet.tv/movie/10613-nikchemniy-ya-3'}, {'title': 'Нікчемний Я 2', 'ratio': 'Дитячі', 'link_film': 'https://sweet.tv/movie/8893-nikchemniy-ya-2'}, {'title': 'Нікчемний Я', 'ratio': 'Дитячі', 'link_film': 'https://sweet.tv/movie/10584-nikchemniy-ya'}, {'title': 'Бебі Бос', 'ratio': 'Дитячі', 'link_film': 'https://sweet.tv/movie/9341-bebi-bos'}, {'title': 'Капітан Підштаники', 'ratio': 'Дитячі', 'link_film': 'https://sweet.tv/movie/11192-kapitan-pidshtaniki'}, {'title': 'Пінгвіни Мадагаскару', 'ratio': 'Дитячі', 'link_film': 'https://sweet.tv/movie/15489-pingvini-madagaskaru'}, {'title': 'Допитливий Джордж 3', 'ratio': 'Дитячі', 'link_film': 'https://sweet.tv/movie/20442-dopitliviy-dzhordzh-3'}, {'title': 'Думками навиворіт', 'ratio': 'Дитячі', 'link_film': 'https://sweet.tv/movie/20284-dumkami-navivorit'}, {'title': 'Тед-мандрівник і таємниця царя Мідаса', 'ratio': 'Дитячі', 'link_film': 'https://sweet.tv/movie/20016-ted-mandrivnik-i-tayemnicya-carya-midasa'}, {'title': 'Диво-парк', 'ratio': 'Дитячі', 'link_film': 'https://sweet.tv/movie/20433-divo-park'}, {'title': 'Мами застрягли на Марсі', 'ratio': 'Дитячі', 'link_film': 'https://sweet.tv/movie/20281-mami-zastryagli-na-marsi'}, {'title': 'Скубі-Ду!', 'ratio': 'Дитячі', 'link_film': 'https://sweet.tv/movie/19082-skubi-du'}, {'title': 'Шрек назавжди', 'ratio': 'Дитячі', 'link_film': 'https://sweet.tv/movie/16158-shrek-nazavzhdi'}, {'title': 'Мегамозок', 'ratio': 'Дитячі', 'link_film': 'https://sweet.tv/movie/17763-megamozok'}, {'title': 'Кіт у чоботях', 'ratio': 'Дитячі', 'link_film': 'https://sweet.tv/movie/16016-kit-u-chobotyah'}, {'title': 'Як приборкати дракона', 'ratio': 'Дитячі', 'link_film': 'https://sweet.tv/movie/15738-yak-priborkati-drakona'}, {'title': 'Турбо', 'ratio': 'Дитячі', 'link_film': 'https://sweet.tv/movie/17095-turbo'}, {'title': 'Оггі і таргани: 5 Сезон', 'ratio': 'Дитячі', 'link_film': 'https://sweet.tv/movie/12304-oggi-i-targani-5-sezon'}, {'title': 'Лего Шазам: Магія і монстри', 'ratio': 'Дитячі', 'link_film': 'https://sweet.tv/movie/20438-lego-shazam-magiya-i-monstri'}, {'title': 'Ранго', 'ratio': 'Дитячі', 'link_film': 'https://sweet.tv/movie/20031-rango'}, {'title': 'Мадагаскар 3', 'ratio': 'Дитячі', 'link_film': 'https://sweet.tv/movie/16313-madagaskar-3'}, {'title': 'Вартові легенд', 'ratio': 'Дитячі', 'link_film': 'https://sweet.tv/movie/19526-vartovi-legend'}, {'title': 'Панда Кунг-Фу 2', 'ratio': 'Дитячі', 'link_film': 'https://sweet.tv/movie/15618-panda-kung-fu-2'}, {'title': 'Лоракс', 'ratio': 'Комедії, Пригоди, Дитячі', 'link_film': 'https://sweet.tv/movie/10620-loraks'}, {'title': 'Школа монстрів: Під напругою', 'ratio': 'Дитячі', 'link_film': 'https://sweet.tv/movie/19517-shkola-monstriv-pid-naprugoyu'}, {'title': 'Як приборкати дракона 2', 'ratio': 'Дитячі', 'link_film': 'https://sweet.tv/movie/15689-yak-priborkati-drakona-2'}, {'title': 'Секрети домашніх тварин 2', 'ratio': 'Дитячі', 'link_film': 'https://sweet.tv/movie/18943-sekreti-domashnih-tvarin-2'}, {'title': 'Вінні Пух', 'ratio': 'Дитячі', 'link_film': 'https://sweet.tv/movie/20400-vinni-puh'}, {'title': 'Відважна', 'ratio': 'Дитячі', 'link_film': 'https://sweet.tv/movie/16348-vidvazhna'}, {'title': 'Хлопчик-фантом', 'ratio': 'Дитячі', 'link_film': 'https://sweet.tv/movie/20325-hlopchik-fantom'}, {'title': 'Червона черепаха', 'ratio': 'Дитячі', 'link_film': 'https://sweet.tv/movie/20326-chervona-cherepaha'}, {'title': 'Барбі: Пригоди в будинку мрії', 'ratio': 'Дитячі', 'link_film': 'https://sweet.tv/movie/16757-barbi-prigodi-v-budinku-mriji'}, {'title': 'Октонавти', 'ratio': 'Дитячі', 'link_film': 'https://sweet.tv/movie/19981-oktonavti'}, {'title': 'Мій маленький поні: 5 Сезон', 'ratio': 'Дитячі', 'link_film': 'https://sweet.tv/movie/18476-miy-malenkiy-poni-5-sezon'}, {'title': 'Lego Ніндзяго фільм', 'ratio': 'Дитячі', 'link_film': 'https://sweet.tv/movie/18268-lego-nindzyago-film'}, {'title': 'Пиратка і капітан: 1 сезон', 'ratio': 'Дитячі', 'link_film': 'https://sweet.tv/movie/13437-piratka-i-kapitan-1-sezon'}, {'title': 'Бігфут молодший: Стань легендою', 'ratio': 'Дитячі', 'link_film': 'https://sweet.tv/movie/17762-bigfut-molodshiy-stan-legendoyu'}, {'title': 'Зачарований принц', 'ratio': 'Дитячі', 'link_film': 'https://sweet.tv/movie/16335-zacharovaniy-princ'}, {'title': 'UglyDolls. Ляльки з характером', 'ratio': 'Дитячі', 'link_film': 'https://sweet.tv/movie/19861-uglydolls-lyalki-z-harakterom'}, {'title': 'Королівський корґі', 'ratio': 'Дитячі', 'link_film': 'https://sweet.tv/movie/19853-korolivskiy-korgi'}, {'title': 'Гноми вдома', 'ratio': 'Дитячі', 'link_film': 'https://sweet.tv/movie/15163-gnomi-vdoma'}, {'title': 'Велика втеча', 'ratio': 'Дитячі', 'link_film': 'https://sweet.tv/movie/7402-velika-vtecha'}, {'title': 'Робінзон Крузо: Дуже заселений острів', 'ratio': 'Дитячі', 'link_film': 'https://sweet.tv/movie/7360-robinzon-kruzo-duzhe-zaseleniy-ostriv'}, {'title': 'Маленький принц', 'ratio': 'Дитячі', 'link_film': 'https://sweet.tv/movie/7336-malenkiy-princ'}, {'title': 'Вартовий Місяця', 'ratio': 'Дитячі', 'link_film': 'https://sweet.tv/movie/7277-vartoviy-misyacya'}, {'title': 'Кіт Грім і зачарований дім', 'ratio': 'Дитячі', 'link_film': 'https://sweet.tv/movie/7278-kit-grim-i-zacharovaniy-dim'}, {'title': 'Баранчик Шон', 'ratio': 'Дитячі', 'link_film': 'https://sweet.tv/movie/13242-baranchik-shon'}, {'title': 'Дикі предки', 'ratio': 'Дитячі', 'link_film': 'https://sweet.tv/movie/16936-diki-predki'}, {'title': 'Вартові джунглів', 'ratio': 'Дитячі', 'link_film': 'https://sweet.tv/movie/19847-vartovi-dzhungliv'}, {'title': 'Рок Дог', 'ratio': 'Дитячі', 'link_film': 'https://sweet.tv/movie/10112-rok-dog'}, {'title': 'Підводна ера', 'ratio': 'Комедії, Пригоди', 'link_film': 'https://sweet.tv/movie/11271-pidvodna-era'}, {'title': 'Балерина', 'ratio': 'Дитячі', 'link_film': 'https://sweet.tv/movie/7378-balerina'}, {'title': 'Астерікс і таємне зілля', 'ratio': 'Дитячі', 'link_film': 'https://sweet.tv/movie/17239-asteriks-i-tayemne-zillya'}, {'title': 'Віллі і таємнича планета', 'ratio': 'Дитячі', 'link_film': 'https://sweet.tv/movie/18534-villi-i-tayemnicha-planeta'}, {'title': 'Баранчик Шон: Фермагеддон', 'ratio': 'Дитячі', 'link_film': 'https://sweet.tv/movie/19060-baranchik-shon-fermageddon'}, {'title': 'Мій маленький поні: 6 Сезон', 'ratio': 'Дитячі', 'link_film': 'https://sweet.tv/movie/19026-miy-malenkiy-poni-6-sezon'}, {'title': 'Ведмідь Йоги', 'ratio': 'Дитячі', 'link_film': 'https://sweet.tv/movie/18925-vedmid-yogi'}, {'title': 'Веселі ніжки 2', 'ratio': 'Дитячі', 'link_film': 'https://sweet.tv/movie/16355-veseli-nizhki-2'}, {'title': 'Лего Фільм', 'ratio': 'Дитячі', 'link_film': 'https://sweet.tv/movie/18923-lego-film'}, {'title': 'Легенди нічної варти', 'ratio': 'Дитячі', 'link_film': 'https://sweet.tv/movie/16281-legendi-nichnoji-varti'}]\n",
      "118\n",
      "цикл парсинга закончился на странице: 4\n"
     ]
    }
   ],
   "source": [
    "import requests\n",
    "from bs4 import BeautifulSoup\n",
    "\n",
    "\n",
    "HOST = 'https://sweet.tv'\n",
    "URL = 'https://sweet.tv/movies/multfilmi'\n",
    "HEADERS = {\n",
    "     'user-agent': 'Mozilla/5.0 (Linux; Android 6.0; Nexus 5 Build/MRA58N) AppleWebKit/537.36 (KHTML, like Gecko) Chrome/86.0.4240.198 Mobile Safari/537.36'\n",
    "}\n",
    "\n",
    "\n",
    "\n",
    "def get_html(url, params =''):\n",
    "    r = requests.get(url, headers = HEADERS, params = params)\n",
    "    return r\n",
    "\n",
    "\n",
    "def parse_block(html):\n",
    "    url_block= soup.find_all('a', class_='film-item')\n",
    "    url = url_block.get('href')\n",
    "    \n",
    "    print(url_block)\n",
    "    \n",
    "    \n",
    "#функция для контента одной страницы\n",
    "\n",
    "def get_content(html):\n",
    "        soup = BeautifulSoup (html, 'html.parser')\n",
    "        items = soup.find_all('li', class_='film-item-container')\n",
    "        films = []\n",
    "        \n",
    "        for item in items:\n",
    "            films.append(\n",
    "                {\n",
    "                 'title': item.find('h4', class_='film__title').get_text(),\n",
    "                'ratio': item.find('p', class_='film__ratio').get_text(),\n",
    "                    'link_film': item.find('a', class_= 'film-item').get('href'),\n",
    "                 }\n",
    "            )\n",
    "        return films\n",
    "\n",
    "#функция для контента всех страниц\n",
    "def parser():\n",
    "    html = get_html(URL)\n",
    "    \n",
    "    if html.status_code==200:\n",
    "        films = []\n",
    "        for page in range(1,5):\n",
    "            print(f'парсим страницу: {page}')\n",
    "            html = get_html(URL, params= {'page':page})\n",
    "            films.extend(get_content(html.text))\n",
    "        \n",
    "        print(films)\n",
    "        print(len(films))\n",
    "        print(f'цикл парсинга закончился на странице: {page}')\n",
    "    else:\n",
    "        print('error')\n",
    "\n",
    "        \n",
    "        \n",
    "def parse_block(html):\n",
    "    url_block=block.select('a', class_='film-item')\n",
    "    url = url_block.get('href')\n",
    "    \n",
    "    print(url_block)\n",
    "\n",
    "        \n",
    "\n",
    "parser()\n"
   ]
  },
  {
   "cell_type": "code",
   "execution_count": 36,
   "metadata": {},
   "outputs": [
    {
     "name": "stdout",
     "output_type": "stream",
     "text": [
      "[<li class=\"page-item active\"><span class=\"page-link\">1</span></li>, <li class=\"page-item\"><a class=\"page-link\" href=\"https://sweet.tv/movies/multfilmi/page/2\" title=\"2\">2</a></li>, <li class=\"page-item\"><a class=\"page-link\" href=\"https://sweet.tv/movies/multfilmi/page/3\" title=\"3\">3</a></li>, <li class=\"page-item\"><span class=\"page-link\">...</span></li>, <li class=\"page-item\"><a class=\"page-link\" href=\"https://sweet.tv/movies/multfilmi/page/9\" title=\"9\">9</a></li>]\n"
     ]
    },
    {
     "ename": "TypeError",
     "evalue": "unsupported operand type(s) for +: 'NoneType' and 'int'",
     "output_type": "error",
     "traceback": [
      "\u001b[0;31m---------------------------------------------------------------------------\u001b[0m",
      "\u001b[0;31mTypeError\u001b[0m                                 Traceback (most recent call last)",
      "\u001b[0;32m<ipython-input-36-884ad903e2a1>\u001b[0m in \u001b[0;36m<module>\u001b[0;34m\u001b[0m\n\u001b[1;32m     63\u001b[0m \u001b[0;34m\u001b[0m\u001b[0m\n\u001b[1;32m     64\u001b[0m \u001b[0;34m\u001b[0m\u001b[0m\n\u001b[0;32m---> 65\u001b[0;31m \u001b[0mparse\u001b[0m\u001b[0;34m(\u001b[0m\u001b[0;34m)\u001b[0m\u001b[0;34m\u001b[0m\u001b[0;34m\u001b[0m\u001b[0m\n\u001b[0m",
      "\u001b[0;32m<ipython-input-36-884ad903e2a1>\u001b[0m in \u001b[0;36mparse\u001b[0;34m()\u001b[0m\n\u001b[1;32m     48\u001b[0m         \u001b[0mfilms\u001b[0m \u001b[0;34m=\u001b[0m \u001b[0;34m[\u001b[0m\u001b[0;34m]\u001b[0m\u001b[0;34m\u001b[0m\u001b[0;34m\u001b[0m\u001b[0m\n\u001b[1;32m     49\u001b[0m         \u001b[0mpages_count\u001b[0m \u001b[0;34m=\u001b[0m \u001b[0mget_pages_count\u001b[0m\u001b[0;34m(\u001b[0m\u001b[0mhtml\u001b[0m\u001b[0;34m.\u001b[0m\u001b[0mtext\u001b[0m\u001b[0;34m)\u001b[0m\u001b[0;34m\u001b[0m\u001b[0;34m\u001b[0m\u001b[0m\n\u001b[0;32m---> 50\u001b[0;31m         \u001b[0;32mfor\u001b[0m \u001b[0mpage\u001b[0m \u001b[0;32min\u001b[0m \u001b[0mrange\u001b[0m\u001b[0;34m(\u001b[0m\u001b[0;36m1\u001b[0m\u001b[0;34m,\u001b[0m \u001b[0mpages_count\u001b[0m \u001b[0;34m+\u001b[0m\u001b[0;36m1\u001b[0m\u001b[0;34m)\u001b[0m\u001b[0;34m:\u001b[0m\u001b[0;34m\u001b[0m\u001b[0;34m\u001b[0m\u001b[0m\n\u001b[0m\u001b[1;32m     51\u001b[0m             \u001b[0mprint\u001b[0m\u001b[0;34m(\u001b[0m\u001b[0;34mf'парсим страницу: {page} из {pages_count}'\u001b[0m\u001b[0;34m)\u001b[0m\u001b[0;34m\u001b[0m\u001b[0;34m\u001b[0m\u001b[0m\n\u001b[1;32m     52\u001b[0m             \u001b[0mhtml\u001b[0m \u001b[0;34m=\u001b[0m \u001b[0mget_html\u001b[0m\u001b[0;34m(\u001b[0m\u001b[0mURL\u001b[0m\u001b[0;34m,\u001b[0m \u001b[0mparams\u001b[0m\u001b[0;34m=\u001b[0m \u001b[0;34m{\u001b[0m\u001b[0;34m'page'\u001b[0m\u001b[0;34m:\u001b[0m \u001b[0mpage\u001b[0m\u001b[0;34m}\u001b[0m\u001b[0;34m)\u001b[0m\u001b[0;34m\u001b[0m\u001b[0;34m\u001b[0m\u001b[0m\n",
      "\u001b[0;31mTypeError\u001b[0m: unsupported operand type(s) for +: 'NoneType' and 'int'"
     ]
    }
   ],
   "source": [
    "import requests\n",
    "from bs4 import BeautifulSoup\n",
    "import csv\n",
    "\n",
    "HOST = 'https://sweet.tv'\n",
    "URL = 'https://sweet.tv/movies/multfilmi'\n",
    "HEADERS = {\n",
    "     'user-agent': 'Mozilla/5.0 (Linux; Android 6.0; Nexus 5 Build/MRA58N) AppleWebKit/537.36 (KHTML, like Gecko) Chrome/86.0.4240.198 Mobile Safari/537.36'\n",
    "}\n",
    "\n",
    "\n",
    "\n",
    "def get_html(url, params =''):\n",
    "    r = requests.get(url, headers = HEADERS, params = params)\n",
    "    return r\n",
    "\n",
    "#функция для контента одной страницы\n",
    "\n",
    "def get_content(html):\n",
    "        soup = BeautifulSoup (html, 'html.parser')\n",
    "        items = soup.find_all('li', class_='film-item-container')\n",
    "        \n",
    "        films = []\n",
    "        for item in items:\n",
    "            films.append(\n",
    "                {\n",
    "                 'title': item.find('h4', class_='film__title').get_text(),\n",
    "                'ratio': item.find('p', class_='film__ratio').get_text(),\n",
    "                    'link_film': item.find('a', class_= 'film-item').get('href'),\n",
    "                 }\n",
    "            )\n",
    "        return films\n",
    "\n",
    "    \n",
    "    \n",
    "def get_pages_count(html):\n",
    "    soup = BeautifulSoup (html, 'html.parser')\n",
    "    pagination = soup.find_all('li', class_='page-item')\n",
    "    print (pagination)\n",
    "        \n",
    "    \n",
    "    \n",
    "#функция для контента всех страниц\n",
    "def parse():\n",
    "    html = get_html(URL)\n",
    "    \n",
    "    if html.status_code==200:\n",
    "        films = []\n",
    "        pages_count = get_pages_count(html.text)\n",
    "        for page in range(1, pages_count +1):\n",
    "            print(f'парсим страницу: {page} из {pages_count}')\n",
    "            html = get_html(URL, params= {'page': page})\n",
    "            films.extend(get_content(html.text))\n",
    "        print(films)\n",
    "        print(f'цикл парсинга закончился на странице: {page}')\n",
    "    else:\n",
    "        print('error')\n",
    "        \n",
    "\n",
    "        \n",
    "    \n",
    "        \n",
    "        \n",
    "\n",
    "parse()\n"
   ]
  },
  {
   "cell_type": "code",
   "execution_count": 40,
   "metadata": {},
   "outputs": [
    {
     "data": {
      "text/plain": [
       "{'Поллі Покет: 2 Сезон': {'href': 'https://sweet.tv/movie/20822-polli-poket-2-sezon'},\n",
       " 'Альфа та Омега: Зубата братва': {'href': 'https://sweet.tv/movie/6120-alfa-ta-omega-zubata-bratva'},\n",
       " 'Смурфики': {'href': 'https://sweet.tv/movie/7351-smurfiki'},\n",
       " 'Пожежник Сем: 8 Сезон': {'href': 'https://sweet.tv/movie/20808-pozhezhnik-sem-8-sezon'},\n",
       " 'Полювання на монстра': {'href': 'https://sweet.tv/movie/9135-polyuvannya-na-monstra'},\n",
       " 'Шерлок Гномс': {'href': 'https://sweet.tv/movie/16183-sherlok-gnoms'},\n",
       " 'Ману': {'href': 'https://sweet.tv/movie/20795-manu'},\n",
       " 'Риф. Нові пригоди': {'href': 'https://sweet.tv/movie/20794-rif-novi-prigodi'},\n",
       " 'Монстр у Парижі': {'href': 'https://sweet.tv/movie/6875-monstr-u-parizhi'},\n",
       " 'Супер шістка': {'href': 'https://sweet.tv/movie/16478-super-shistka'},\n",
       " 'Індики: повернення в майбутнє': {'href': 'https://sweet.tv/movie/7954-indiki-povernennya-v-maybutnye'},\n",
       " 'Ніко 2': {'href': 'https://sweet.tv/movie/7232-niko-2'},\n",
       " 'Темна Ліга Справедливості: Війна Апокаліпса': {'href': 'https://sweet.tv/movie/20463-temna-liga-spravedlivosti-viyna-apokalipsa'},\n",
       " 'Реальна білка 2': {'href': 'https://sweet.tv/movie/11911-realna-bilka-2'},\n",
       " 'Повернення гномів': {'href': 'https://sweet.tv/movie/20777-povernennya-gnomiv'},\n",
       " 'Коко': {'href': 'https://sweet.tv/movie/19876-koko'},\n",
       " 'Бджілка Майя: 2 Сезон': {'href': 'https://sweet.tv/movie/11561-bdzhilka-mayya-2-sezon'},\n",
       " 'Інуї: 2 сезон': {'href': 'https://sweet.tv/movie/16546-inuji-2-sezon'},\n",
       " 'Таємна місія Санти': {'href': 'https://sweet.tv/movie/7276-tayemna-misiya-santi'},\n",
       " 'Робокар Полі 2 сезон': {'href': 'https://sweet.tv/movie/20760-robokar-poli-2-sezon'},\n",
       " 'Супер монстри: 2 сезон': {'href': 'https://sweet.tv/movie/20759-super-monstri-2-sezon'},\n",
       " 'Angry Birds у кіно 2': {'href': 'https://sweet.tv/movie/17780-angry-birds-u-kino-2'},\n",
       " 'Ведмедики Буні: Стрибок у минуле': {'href': 'https://sweet.tv/movie/20697-vedmediki-buni-stribok-u-minule'},\n",
       " 'Єті': {'href': 'https://sweet.tv/movie/19490-yeti'},\n",
       " 'Інуї: 1 сезон': {'href': 'https://sweet.tv/movie/11566-inuji-1-sezon'},\n",
       " 'Робокар Полі': {'href': 'https://sweet.tv/movie/7773-robokar-poli'},\n",
       " 'Добрий динозавр': {'href': 'https://sweet.tv/movie/20347-dobriy-dinozavr'},\n",
       " 'Подружки-супергерої: 1 Сезон': {'href': 'https://sweet.tv/movie/17241-podruzhki-supergeroji-1-sezon'},\n",
       " 'Людина-павук: Навколо всесвіту': {'href': 'https://sweet.tv/movie/17809-lyudina-pavuk-navkolo-vsesvitu'},\n",
       " 'Принцеса Лебідь: Королівське весілля': {'href': 'https://sweet.tv/movie/20415-princesa-lebid-korolivske-vesillya'}}"
      ]
     },
     "execution_count": 40,
     "metadata": {},
     "output_type": "execute_result"
    }
   ],
   "source": [
    "import requests\n",
    "from bs4 import BeautifulSoup\n",
    "\n",
    "\n",
    "r = requests.get('https://sweet.tv/movies/multfilmi')\n",
    "soup = BeautifulSoup (r.text, 'html.parser')\n",
    "\n",
    "all_movies={}\n",
    "\n",
    "\n",
    "for el in soup.find_all('li', class_='film-item-container'):\n",
    "    name_movie = el.find('a').get('title')\n",
    "    all_movies[name_movie] = {'href':el.find('a').get('href') }\n",
    "    \n",
    "\n",
    "all_movies"
   ]
  },
  {
   "cell_type": "code",
   "execution_count": 41,
   "metadata": {},
   "outputs": [
    {
     "name": "stdout",
     "output_type": "stream",
     "text": [
      "Поллі Покет: 2 Сезон\n",
      "Альфа та Омега: Зубата братва\n",
      "Смурфики\n",
      "Пожежник Сем: 8 Сезон\n",
      "Полювання на монстра\n",
      "Шерлок Гномс\n",
      "Ману\n",
      "Риф. Нові пригоди\n",
      "Монстр у Парижі\n",
      "Супер шістка\n",
      "Індики: повернення в майбутнє\n",
      "Ніко 2\n",
      "Темна Ліга Справедливості: Війна Апокаліпса\n",
      "Реальна білка 2\n",
      "Повернення гномів\n",
      "Коко\n",
      "Бджілка Майя: 2 Сезон\n",
      "Інуї: 2 сезон\n",
      "Таємна місія Санти\n",
      "Робокар Полі 2 сезон\n",
      "Супер монстри: 2 сезон\n",
      "Angry Birds у кіно 2\n",
      "Ведмедики Буні: Стрибок у минуле\n",
      "Єті\n",
      "Інуї: 1 сезон\n",
      "Робокар Полі\n",
      "Добрий динозавр\n",
      "Подружки-супергерої: 1 Сезон\n",
      "Людина-павук: Навколо всесвіту\n",
      "Принцеса Лебідь: Королівське весілля\n"
     ]
    }
   ],
   "source": [
    "for movie in all_movies:\n",
    "    print(movie)"
   ]
  },
  {
   "cell_type": "code",
   "execution_count": 42,
   "metadata": {},
   "outputs": [
    {
     "name": "stdout",
     "output_type": "stream",
     "text": [
      "https://sweet.tv/movie/20822-polli-poket-2-sezon\n",
      "https://sweet.tv/movie/6120-alfa-ta-omega-zubata-bratva\n",
      "https://sweet.tv/movie/7351-smurfiki\n",
      "https://sweet.tv/movie/20808-pozhezhnik-sem-8-sezon\n",
      "https://sweet.tv/movie/9135-polyuvannya-na-monstra\n",
      "https://sweet.tv/movie/16183-sherlok-gnoms\n",
      "https://sweet.tv/movie/20795-manu\n",
      "https://sweet.tv/movie/20794-rif-novi-prigodi\n",
      "https://sweet.tv/movie/6875-monstr-u-parizhi\n",
      "https://sweet.tv/movie/16478-super-shistka\n",
      "https://sweet.tv/movie/7954-indiki-povernennya-v-maybutnye\n",
      "https://sweet.tv/movie/7232-niko-2\n",
      "https://sweet.tv/movie/20463-temna-liga-spravedlivosti-viyna-apokalipsa\n",
      "https://sweet.tv/movie/11911-realna-bilka-2\n",
      "https://sweet.tv/movie/20777-povernennya-gnomiv\n",
      "https://sweet.tv/movie/19876-koko\n",
      "https://sweet.tv/movie/11561-bdzhilka-mayya-2-sezon\n",
      "https://sweet.tv/movie/16546-inuji-2-sezon\n",
      "https://sweet.tv/movie/7276-tayemna-misiya-santi\n",
      "https://sweet.tv/movie/20760-robokar-poli-2-sezon\n",
      "https://sweet.tv/movie/20759-super-monstri-2-sezon\n",
      "https://sweet.tv/movie/17780-angry-birds-u-kino-2\n",
      "https://sweet.tv/movie/20697-vedmediki-buni-stribok-u-minule\n",
      "https://sweet.tv/movie/19490-yeti\n",
      "https://sweet.tv/movie/11566-inuji-1-sezon\n",
      "https://sweet.tv/movie/7773-robokar-poli\n",
      "https://sweet.tv/movie/20347-dobriy-dinozavr\n",
      "https://sweet.tv/movie/17241-podruzhki-supergeroji-1-sezon\n",
      "https://sweet.tv/movie/17809-lyudina-pavuk-navkolo-vsesvitu\n",
      "https://sweet.tv/movie/20415-princesa-lebid-korolivske-vesillya\n"
     ]
    }
   ],
   "source": [
    "for movie in all_movies:\n",
    "    print(all_movies[movie]['href'])"
   ]
  },
  {
   "cell_type": "code",
   "execution_count": 50,
   "metadata": {},
   "outputs": [
    {
     "data": {
      "text/plain": [
       "{'Поллі Покет: 2 Сезон': {'href': 'https://sweet.tv/movie/20822-polli-poket-2-sezon',\n",
       "  'people': ['Шеннон Чан-Кент', 'Девід Кей', 'Маріка Хендрікс']},\n",
       " 'Альфа та Омега: Зубата братва': {'href': 'https://sweet.tv/movie/6120-alfa-ta-omega-zubata-bratva',\n",
       "  'people': ['Хейден Панеттьер',\n",
       "   'Джастін Лонг',\n",
       "   'Денніс Хоппер',\n",
       "   'Денні Гловер',\n",
       "   'Вікі Льюїс',\n",
       "   'Кевін Суссман',\n",
       "   'Кріс Кармак',\n",
       "   'Брайан Донован',\n",
       "   'Ларрі Міллер']},\n",
       " 'Смурфики': {'href': 'https://sweet.tv/movie/7351-smurfiki',\n",
       "  'people': ['Ніл Патрік Харріс',\n",
       "   'Jayma Mays',\n",
       "   'Софія Вергара',\n",
       "   'Джонатан Вінтерс',\n",
       "   'Алан Каммінг',\n",
       "   'Кеті Перрі',\n",
       "   'Фред Арбісен',\n",
       "   'Джордж Лопес',\n",
       "   'Антон Єльчин']},\n",
       " 'Пожежник Сем: 8 Сезон': {'href': 'https://sweet.tv/movie/20808-pozhezhnik-sem-8-sezon',\n",
       "  'people': ['Девід Карлинг', 'Су Дуглас', 'Стівен Кінмен', 'Ешлі Мегвуд']},\n",
       " 'Полювання на монстра': {'href': 'https://sweet.tv/movie/9135-polyuvannya-na-monstra',\n",
       "  'people': ['У Цзян',\n",
       "   'Це нормально',\n",
       "   'цзин Божань',\n",
       "   'Елейн Цін',\n",
       "   'Уоллес Чун']},\n",
       " 'Шерлок Гномс': {'href': 'https://sweet.tv/movie/16183-sherlok-gnoms',\n",
       "  'people': ['Джонні Депп',\n",
       "   'Емілі Блант',\n",
       "   'Джеймс МакЕвой',\n",
       "   'Чіветель Еджіофор',\n",
       "   'Мері Джей Блайдж']},\n",
       " 'Ману': {'href': 'https://sweet.tv/movie/20795-manu',\n",
       "  'people': ['Віллем Дефо', 'Кейт Уінслет', 'Роб Полсен', 'Джош Кітон']},\n",
       " 'Риф. Нові пригоди': {'href': 'https://sweet.tv/movie/20794-rif-novi-prigodi',\n",
       "  'people': ['Марк Хемміл', 'Рон Перлман', 'Елісон Вандзура']},\n",
       " 'Монстр у Парижі': {'href': 'https://sweet.tv/movie/6875-monstr-u-parizhi',\n",
       "  'people': ['Ванесса Параді',\n",
       "   'Боб Белабан',\n",
       "   'Гад Елмалех',\n",
       "   'Франсуа Клузет',\n",
       "   'Людівін Саньє',\n",
       "   'Джулі Феррієр',\n",
       "   'Бруно Саломон',\n",
       "   \"Філіп Пейт'є\",\n",
       "   'Матьє Шедід']},\n",
       " 'Супер шістка': {'href': 'https://sweet.tv/movie/16478-super-shistka',\n",
       "  'people': ['Скотт Едсіт',\n",
       "   'Райан Поттер',\n",
       "   'ТіДжей Міллер',\n",
       "   'Джеймі Джилін Чун',\n",
       "   'Деніел Хенні']},\n",
       " 'Індики: повернення в майбутнє': {'href': 'https://sweet.tv/movie/7954-indiki-povernennya-v-maybutnye',\n",
       "  'people': ['Оуен Вілсон',\n",
       "   'Вуді Гаррельсон',\n",
       "   'Емі Полер',\n",
       "   'Джордж Такей',\n",
       "   'Колм Міні',\n",
       "   'Кіт Девід',\n",
       "   'Ден Фоглер',\n",
       "   'Джиммі Хейворд',\n",
       "   'Кайтлін Махер',\n",
       "   'Карлос Алазракі',\n",
       "   'Джошуа Лоусон',\n",
       "   'Карлос Понсе',\n",
       "   'Скотт Моужер']},\n",
       " 'Ніко 2': {'href': 'https://sweet.tv/movie/7232-niko-2',\n",
       "  'people': ['Юха Вейхонен',\n",
       "   'Карі Кетонен',\n",
       "   'Еліна Кніхтіля',\n",
       "   'Пертті Койвула']},\n",
       " 'Темна Ліга Справедливості: Війна Апокаліпса': {'href': 'https://sweet.tv/movie/20463-temna-liga-spravedlivosti-viyna-apokalipsa',\n",
       "  'people': ['Метт Райан',\n",
       "   \"Джеррі О'Коннелл\",\n",
       "   'Таісса Фарміга',\n",
       "   'Джейсон О`Мара',\n",
       "   'Розаріо Доусон',\n",
       "   'Ребекка Ромейн',\n",
       "   'Рей Вілсон',\n",
       "   'Тоні Тодд',\n",
       "   'Шемар Мур',\n",
       "   'Кріс Горем',\n",
       "   'Ліам Макінтайр',\n",
       "   'Роджер Крос',\n",
       "   'Джон Ді Маджіо',\n",
       "   'Метт Лантер',\n",
       "   'Шон Астін',\n",
       "   'Джо Беннсе']},\n",
       " 'Реальна білка 2': {'href': 'https://sweet.tv/movie/11911-realna-bilka-2',\n",
       "  'people': ['Уілл Арнетт',\n",
       "   'Кетрін Хайгл',\n",
       "   'Майя Рудольф',\n",
       "   'Габріель Іглесіас',\n",
       "   'Ізабелла Монер',\n",
       "   'Джекі Чан',\n",
       "   'Боббі Мойнихан',\n",
       "   'Пітер Стормар',\n",
       "   'Боббі Каннавале',\n",
       "   'Джефф Данхем']},\n",
       " 'Повернення гномів': {'href': 'https://sweet.tv/movie/20777-povernennya-gnomiv',\n",
       "  'people': ['Єла Хаазе', 'Луїс Хофманн', 'Леон Зейдель']},\n",
       " 'Коко': {'href': 'https://sweet.tv/movie/19876-koko',\n",
       "  'people': ['Гаель Гарсія Бернал',\n",
       "   'Бенджамін Братт',\n",
       "   'Аланна Юбак',\n",
       "   'Едвард Джеймс Олмос',\n",
       "   'Джеймі Каміл',\n",
       "   'Ломбардо Бойер',\n",
       "   'Габріель Іглесіас',\n",
       "   'Чич Марін',\n",
       "   'Едді Сантьяго']},\n",
       " 'Бджілка Майя: 2 Сезон': {'href': 'https://sweet.tv/movie/11561-bdzhilka-mayya-2-sezon',\n",
       "  'people': ['Ной Тейлор',\n",
       "   'Річард Роксбург',\n",
       "   'Коко Джек Гілліс',\n",
       "   'Ніна Шаттон',\n",
       "   'Коді Сміт-Макфі']},\n",
       " 'Інуї: 2 сезон': {'href': 'https://sweet.tv/movie/16546-inuji-2-sezon',\n",
       "  'people': []},\n",
       " 'Таємна місія Санти': {'href': 'https://sweet.tv/movie/7276-tayemna-misiya-santi',\n",
       "  'people': ['Юкка Нілунд', 'Паула Весала', 'Кіті Кокконен']},\n",
       " 'Робокар Полі 2 сезон': {'href': 'https://sweet.tv/movie/20760-robokar-poli-2-sezon',\n",
       "  'people': ['Джейсон Гріффіт',\n",
       "   'Вероніка Тейлор',\n",
       "   'Марк Томпсон',\n",
       "   'Ребекка Солер',\n",
       "   'Ейлін Стівенс']},\n",
       " 'Супер монстри: 2 сезон': {'href': 'https://sweet.tv/movie/20759-super-monstri-2-sezon',\n",
       "  'people': ['Андреа Лібман']},\n",
       " 'Angry Birds у кіно 2': {'href': 'https://sweet.tv/movie/17780-angry-birds-u-kino-2',\n",
       "  'people': ['Джейсон Судейкіс',\n",
       "   'Джош Гад',\n",
       "   'Леслі Джонс',\n",
       "   'Білл Хейдер',\n",
       "   'Стерлінг К. Браун',\n",
       "   'Еудженіо Дербес',\n",
       "   'Денні Макбрайд',\n",
       "   'Пітер Дінклейдж',\n",
       "   'Дав Камерон']},\n",
       " 'Ведмедики Буні: Стрибок у минуле': {'href': 'https://sweet.tv/movie/20697-vedmediki-buni-stribok-u-minule',\n",
       "  'people': ['Чжан Вей', 'Чжан Бинцзюнь', 'Тань Сяо', 'Сун Цзуер']},\n",
       " 'Єті': {'href': 'https://sweet.tv/movie/19490-yeti',\n",
       "  'people': ['Хлоя Беннет', 'Едді Іззард', 'Сара Полсон', 'Джеймс Хонг']},\n",
       " 'Інуї: 1 сезон': {'href': 'https://sweet.tv/movie/11566-inuji-1-sezon',\n",
       "  'people': []},\n",
       " 'Робокар Полі': {'href': 'https://sweet.tv/movie/7773-robokar-poli',\n",
       "  'people': []},\n",
       " 'Добрий динозавр': {'href': 'https://sweet.tv/movie/20347-dobriy-dinozavr',\n",
       "  'people': ['Френсіс Макдорманд',\n",
       "   'Джеффрі Райт',\n",
       "   'Стів Зан',\n",
       "   'Сем Елліотт',\n",
       "   'Анна Пекуін',\n",
       "   'Dave Boat']},\n",
       " 'Подружки-супергерої: 1 Сезон': {'href': 'https://sweet.tv/movie/17241-podruzhki-supergeroji-1-sezon',\n",
       "  'people': []},\n",
       " 'Людина-павук: Навколо всесвіту': {'href': 'https://sweet.tv/movie/17809-lyudina-pavuk-navkolo-vsesvitu',\n",
       "  'people': ['Джейк Джонсон',\n",
       "   'Хейлі Стейнфілд',\n",
       "   'Брайан Тайрі Генрі',\n",
       "   'Лілі Томлін',\n",
       "   'Лорен Луна Велес',\n",
       "   'Зої Кравіц',\n",
       "   'Ніколас Кейдж',\n",
       "   'Кетрін Хан',\n",
       "   'Лів Шрайбер',\n",
       "   'Кріс Пайн',\n",
       "   'Оскар Ісаак',\n",
       "   'Стен Лі',\n",
       "   'Йорма Такконе',\n",
       "   'Хоакін Козіо',\n",
       "   'Лейк Белл',\n",
       "   'Лекс Ланг',\n",
       "   'Крістофер Міллер']},\n",
       " 'Принцеса Лебідь: Королівське весілля': {'href': 'https://sweet.tv/movie/20415-princesa-lebid-korolivske-vesillya',\n",
       "  'people': []}}"
      ]
     },
     "execution_count": 50,
     "metadata": {},
     "output_type": "execute_result"
    }
   ],
   "source": [
    "def req(href):\n",
    "    r = requests.get(href)\n",
    "    soup = BeautifulSoup (r.text, 'html.parser')\n",
    "    return soup\n",
    "\n",
    "\n",
    "\n",
    "for movie in all_movies:\n",
    "    soup = req (all_movies[movie]['href'])\n",
    "    people=[]\n",
    "    for el in soup.find_all('a', itemprop = \"actor\"):\n",
    "        people.append(el.text)\n",
    "    all_movies[movie]['people'] = people\n",
    "    \n",
    "    \n",
    "all_movies  "
   ]
  },
  {
   "cell_type": "code",
   "execution_count": 52,
   "metadata": {},
   "outputs": [
    {
     "data": {
      "text/plain": [
       "2021"
      ]
     },
     "execution_count": 52,
     "metadata": {},
     "output_type": "execute_result"
    }
   ],
   "source": [
    "import datetime \n",
    "    \n",
    "d = datetime.date(2021,11,11) \n",
    "\n",
    "d.year # вывести год млже/месяц/день"
   ]
  },
  {
   "cell_type": "code",
   "execution_count": 54,
   "metadata": {},
   "outputs": [
    {
     "data": {
      "text/plain": [
       "'2021-11-11'"
      ]
     },
     "execution_count": 54,
     "metadata": {},
     "output_type": "execute_result"
    }
   ],
   "source": [
    "d.isoformat()"
   ]
  },
  {
   "cell_type": "code",
   "execution_count": 55,
   "metadata": {},
   "outputs": [
    {
     "data": {
      "text/plain": [
       "'my date 11'"
      ]
     },
     "execution_count": 55,
     "metadata": {},
     "output_type": "execute_result"
    }
   ],
   "source": [
    "d.strftime('my date %d')"
   ]
  },
  {
   "cell_type": "code",
   "execution_count": 58,
   "metadata": {},
   "outputs": [
    {
     "data": {
      "text/plain": [
       "datetime.datetime(2021, 11, 11, 10, 30, 45)"
      ]
     },
     "execution_count": 58,
     "metadata": {},
     "output_type": "execute_result"
    }
   ],
   "source": [
    "d = datetime.datetime(2021,11,11, 10, 30, 45) \n",
    "d"
   ]
  },
  {
   "cell_type": "code",
   "execution_count": 59,
   "metadata": {},
   "outputs": [
    {
     "data": {
      "text/plain": [
       "datetime.datetime(2020, 12, 1, 20, 0, 44, 715015)"
      ]
     },
     "execution_count": 59,
     "metadata": {},
     "output_type": "execute_result"
    }
   ],
   "source": [
    "datetime.datetime.now()"
   ]
  },
  {
   "cell_type": "code",
   "execution_count": 61,
   "metadata": {},
   "outputs": [
    {
     "data": {
      "text/plain": [
       "1606845714.547415"
      ]
     },
     "execution_count": 61,
     "metadata": {},
     "output_type": "execute_result"
    }
   ],
   "source": [
    "import time\n",
    "time.time()"
   ]
  },
  {
   "cell_type": "code",
   "execution_count": 63,
   "metadata": {},
   "outputs": [
    {
     "data": {
      "text/plain": [
       "datetime.datetime(2020, 11, 30, 20, 10, 34, 981165)"
      ]
     },
     "execution_count": 63,
     "metadata": {},
     "output_type": "execute_result"
    }
   ],
   "source": [
    "datetime.datetime.now() - datetime.timedelta(days=1)\n",
    "#отнимает один день от сегод дня"
   ]
  },
  {
   "cell_type": "code",
   "execution_count": 62,
   "metadata": {},
   "outputs": [
    {
     "data": {
      "text/plain": [
       "datetime.datetime(1970, 1, 1, 0, 0)"
      ]
     },
     "execution_count": 62,
     "metadata": {},
     "output_type": "execute_result"
    }
   ],
   "source": [
    "\n",
    "\n",
    "datetime.datetime.strptime('01-01-1970', '%d-%m-%Y')\n"
   ]
  },
  {
   "cell_type": "code",
   "execution_count": 68,
   "metadata": {},
   "outputs": [
    {
     "name": "stdout",
     "output_type": "stream",
     "text": [
      "введите дату рождения1970\n"
     ]
    },
    {
     "data": {
      "text/plain": [
       "datetime.timedelta(days=18597, seconds=72920, microseconds=966376)"
      ]
     },
     "execution_count": 68,
     "metadata": {},
     "output_type": "execute_result"
    }
   ],
   "source": [
    "birthday =  input ('введите дату рождения')\n",
    "\n",
    "delta = datetime.datetime.now() - datetime.datetime.strptime('01-01-1970', '%d-%m-%Y')\n",
    "\n",
    "delta\n"
   ]
  },
  {
   "cell_type": "code",
   "execution_count": 70,
   "metadata": {},
   "outputs": [
    {
     "name": "stdout",
     "output_type": "stream",
     "text": [
      "введите дату рождения10-10-2010\n"
     ]
    },
    {
     "data": {
      "text/plain": [
       "18597"
      ]
     },
     "execution_count": 70,
     "metadata": {},
     "output_type": "execute_result"
    }
   ],
   "source": [
    "birthday =  input ('введите дату рождения')\n",
    "\n",
    "delta = datetime.datetime.now() - datetime.datetime.strptime('01-01-1970', '%d-%m-%Y')\n",
    "\n",
    "delta.days\n"
   ]
  },
  {
   "cell_type": "code",
   "execution_count": null,
   "metadata": {},
   "outputs": [],
   "source": []
  }
 ],
 "metadata": {
  "kernelspec": {
   "display_name": "Python 3",
   "language": "python",
   "name": "python3"
  },
  "language_info": {
   "codemirror_mode": {
    "name": "ipython",
    "version": 3
   },
   "file_extension": ".py",
   "mimetype": "text/x-python",
   "name": "python",
   "nbconvert_exporter": "python",
   "pygments_lexer": "ipython3",
   "version": "3.8.3"
  }
 },
 "nbformat": 4,
 "nbformat_minor": 4
}
